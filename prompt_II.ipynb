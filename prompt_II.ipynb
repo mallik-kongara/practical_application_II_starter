{
 "cells": [
  {
   "cell_type": "markdown",
   "metadata": {},
   "source": [
    "# What drives the price of a car?\n",
    "\n",
    "![](images/kurt.jpeg)"
   ]
  },
  {
   "cell_type": "markdown",
   "metadata": {},
   "source": [
    "**OVERVIEW**\n",
    "\n",
    "In this application, you will explore a dataset from kaggle. The original dataset contained information on 3 million used cars. The provided dataset contains information on 426K cars to ensure speed of processing.  Your goal is to understand what factors make a car more or less expensive.  As a result of your analysis, you should provide clear recommendations to your client -- a used car dealership -- as to what consumers value in a used car."
   ]
  },
  {
   "cell_type": "markdown",
   "metadata": {},
   "source": [
    "### CRISP-DM Framework\n",
    "\n",
    "<center>\n",
    "    <img src = images/crisp.png width = 50%/>\n",
    "</center>\n",
    "\n",
    "\n",
    "To frame the task, throughout our practical applications we will refer back to a standard process in industry for data projects called CRISP-DM.  This process provides a framework for working through a data problem.  Your first step in this application will be to read through a brief overview of CRISP-DM [here](https://mo-pcco.s3.us-east-1.amazonaws.com/BH-PCMLAI/module_11/readings_starter.zip).  After reading the overview, answer the questions below."
   ]
  },
  {
   "cell_type": "markdown",
   "metadata": {},
   "source": [
    "### Business Understanding\n",
    "\n",
    "From a business perspective, we are tasked with identifying key drivers for used car prices.  In the CRISP-DM overview, we are asked to convert this business framing to a data problem definition.  Using a few sentences, reframe the task as a data task with the appropriate technical vocabulary. "
   ]
  },
  {
   "cell_type": "markdown",
   "metadata": {},
   "source": [
    "**DATA Task**\n",
    "\n",
    "The objective of this task to conduct a multivariate analysis to identiy and quantify the impact of various features on the price of used cars. This requires a dataset containing variables such as manufacturer, model, age, odometer reading, condition, price, geograhical location, and other relavant features. After cleaning-up / pre-processing the data to handle missing values, duplicate values and outliers, feature selection techniques will be applied to identify key features that impact the price of the car. Multiple regression models will be developed and validated to estimate the price of the car based on the key features. The best regression model will be chosen based on the lowest error. The final model will be used to provide insights to used car dealers to understand what drives the price of a used car with the ultimate objective to flip used cars for profit."
   ]
  },
  {
   "cell_type": "markdown",
   "metadata": {},
   "source": [
    "### Data Understanding\n",
    "\n",
    "After considering the business understanding, we want to get familiar with our data.  Write down some steps that you would take to get to know the dataset and identify any quality issues within.  Take time to get to know the dataset and explore what information it contains and how this could be used to inform your business understanding."
   ]
  },
  {
   "cell_type": "code",
   "execution_count": 406,
   "metadata": {},
   "outputs": [],
   "source": [
    "import pandas as pd\n",
    "import numpy as np\n",
    "import matplotlib.pyplot as plt\n",
    "import seaborn as sns\n",
    "import statsmodels.api as sm\n",
    "from scipy import stats\n",
    "from sklearn.model_selection import train_test_split, GridSearchCV, cross_val_score\n",
    "from sklearn.preprocessing import StandardScaler\n",
    "from sklearn.linear_model import Ridge, Lasso, LinearRegression, RidgeCV\n",
    "from category_encoders.target_encoder import TargetEncoder"
   ]
  },
  {
   "cell_type": "code",
   "execution_count": 407,
   "metadata": {},
   "outputs": [],
   "source": [
    "# Step 1: Load the dataset\n",
    "vehicles = pd.read_csv('data/vehicles.csv')"
   ]
  },
  {
   "cell_type": "code",
   "execution_count": 408,
   "metadata": {},
   "outputs": [
    {
     "name": "stdout",
     "output_type": "stream",
     "text": [
      "                  id    region         price           year manufacturer  \\\n",
      "count   4.268800e+05    426880  4.268800e+05  425675.000000       409234   \n",
      "unique           NaN       404           NaN            NaN           42   \n",
      "top              NaN  columbus           NaN            NaN         ford   \n",
      "freq             NaN      3608           NaN            NaN        70985   \n",
      "mean    7.311487e+09       NaN  7.519903e+04    2011.235191          NaN   \n",
      "std     4.473170e+06       NaN  1.218228e+07       9.452120          NaN   \n",
      "min     7.207408e+09       NaN  0.000000e+00    1900.000000          NaN   \n",
      "25%     7.308143e+09       NaN  5.900000e+03    2008.000000          NaN   \n",
      "50%     7.312621e+09       NaN  1.395000e+04    2013.000000          NaN   \n",
      "75%     7.315254e+09       NaN  2.648575e+04    2017.000000          NaN   \n",
      "max     7.317101e+09       NaN  3.736929e+09    2022.000000          NaN   \n",
      "\n",
      "         model condition    cylinders    fuel      odometer title_status  \\\n",
      "count   421603    252776       249202  423867  4.224800e+05       418638   \n",
      "unique   29649         6            8       5           NaN            6   \n",
      "top      f-150      good  6 cylinders     gas           NaN        clean   \n",
      "freq      8009    121456        94169  356209           NaN       405117   \n",
      "mean       NaN       NaN          NaN     NaN  9.804333e+04          NaN   \n",
      "std        NaN       NaN          NaN     NaN  2.138815e+05          NaN   \n",
      "min        NaN       NaN          NaN     NaN  0.000000e+00          NaN   \n",
      "25%        NaN       NaN          NaN     NaN  3.770400e+04          NaN   \n",
      "50%        NaN       NaN          NaN     NaN  8.554800e+04          NaN   \n",
      "75%        NaN       NaN          NaN     NaN  1.335425e+05          NaN   \n",
      "max        NaN       NaN          NaN     NaN  1.000000e+07          NaN   \n",
      "\n",
      "       transmission                VIN   drive       size    type paint_color  \\\n",
      "count        424324             265838  296313     120519  334022      296677   \n",
      "unique            3             118246       3          4      13          12   \n",
      "top       automatic  1FMJU1JT1HEA52352     4wd  full-size   sedan       white   \n",
      "freq         336524                261  131904      63465   87056       79285   \n",
      "mean            NaN                NaN     NaN        NaN     NaN         NaN   \n",
      "std             NaN                NaN     NaN        NaN     NaN         NaN   \n",
      "min             NaN                NaN     NaN        NaN     NaN         NaN   \n",
      "25%             NaN                NaN     NaN        NaN     NaN         NaN   \n",
      "50%             NaN                NaN     NaN        NaN     NaN         NaN   \n",
      "75%             NaN                NaN     NaN        NaN     NaN         NaN   \n",
      "max             NaN                NaN     NaN        NaN     NaN         NaN   \n",
      "\n",
      "         state  \n",
      "count   426880  \n",
      "unique      51  \n",
      "top         ca  \n",
      "freq     50614  \n",
      "mean       NaN  \n",
      "std        NaN  \n",
      "min        NaN  \n",
      "25%        NaN  \n",
      "50%        NaN  \n",
      "75%        NaN  \n",
      "max        NaN  \n",
      "\n",
      "Data types:\n",
      " id                int64\n",
      "region           object\n",
      "price             int64\n",
      "year            float64\n",
      "manufacturer     object\n",
      "model            object\n",
      "condition        object\n",
      "cylinders        object\n",
      "fuel             object\n",
      "odometer        float64\n",
      "title_status     object\n",
      "transmission     object\n",
      "VIN              object\n",
      "drive            object\n",
      "size             object\n",
      "type             object\n",
      "paint_color      object\n",
      "state            object\n",
      "dtype: object\n"
     ]
    }
   ],
   "source": [
    "# Step 2: Descriptive statistics\n",
    "print(vehicles.describe(include='all'))\n",
    "print(\"\\nData types:\\n\", vehicles.dtypes)"
   ]
  },
  {
   "cell_type": "code",
   "execution_count": 409,
   "metadata": {},
   "outputs": [
    {
     "data": {
      "text/html": [
       "<div>\n",
       "<style scoped>\n",
       "    .dataframe tbody tr th:only-of-type {\n",
       "        vertical-align: middle;\n",
       "    }\n",
       "\n",
       "    .dataframe tbody tr th {\n",
       "        vertical-align: top;\n",
       "    }\n",
       "\n",
       "    .dataframe thead th {\n",
       "        text-align: right;\n",
       "    }\n",
       "</style>\n",
       "<table border=\"1\" class=\"dataframe\">\n",
       "  <thead>\n",
       "    <tr style=\"text-align: right;\">\n",
       "      <th></th>\n",
       "      <th>id</th>\n",
       "      <th>region</th>\n",
       "      <th>price</th>\n",
       "      <th>year</th>\n",
       "      <th>manufacturer</th>\n",
       "      <th>model</th>\n",
       "      <th>condition</th>\n",
       "      <th>cylinders</th>\n",
       "      <th>fuel</th>\n",
       "      <th>odometer</th>\n",
       "      <th>title_status</th>\n",
       "      <th>transmission</th>\n",
       "      <th>VIN</th>\n",
       "      <th>drive</th>\n",
       "      <th>size</th>\n",
       "      <th>type</th>\n",
       "      <th>paint_color</th>\n",
       "      <th>state</th>\n",
       "    </tr>\n",
       "  </thead>\n",
       "  <tbody>\n",
       "    <tr>\n",
       "      <th>139828</th>\n",
       "      <td>7306211750</td>\n",
       "      <td>champaign urbana</td>\n",
       "      <td>12990</td>\n",
       "      <td>2014.0</td>\n",
       "      <td>ford</td>\n",
       "      <td>e150 econoline van</td>\n",
       "      <td>excellent</td>\n",
       "      <td>NaN</td>\n",
       "      <td>gas</td>\n",
       "      <td>134800.0</td>\n",
       "      <td>clean</td>\n",
       "      <td>automatic</td>\n",
       "      <td>NaN</td>\n",
       "      <td>NaN</td>\n",
       "      <td>full-size</td>\n",
       "      <td>van</td>\n",
       "      <td>NaN</td>\n",
       "      <td>il</td>\n",
       "    </tr>\n",
       "    <tr>\n",
       "      <th>201457</th>\n",
       "      <td>7311798987</td>\n",
       "      <td>grand rapids</td>\n",
       "      <td>17105</td>\n",
       "      <td>2020.0</td>\n",
       "      <td>kia</td>\n",
       "      <td>forte fe 4d sedan manual</td>\n",
       "      <td>NaN</td>\n",
       "      <td>NaN</td>\n",
       "      <td>gas</td>\n",
       "      <td>5175.0</td>\n",
       "      <td>clean</td>\n",
       "      <td>manual</td>\n",
       "      <td>3KPF24AD6LE229954</td>\n",
       "      <td>fwd</td>\n",
       "      <td>NaN</td>\n",
       "      <td>sedan</td>\n",
       "      <td>grey</td>\n",
       "      <td>mi</td>\n",
       "    </tr>\n",
       "    <tr>\n",
       "      <th>398697</th>\n",
       "      <td>7306856843</td>\n",
       "      <td>roanoke</td>\n",
       "      <td>7995</td>\n",
       "      <td>2012.0</td>\n",
       "      <td>nissan</td>\n",
       "      <td>juke</td>\n",
       "      <td>NaN</td>\n",
       "      <td>NaN</td>\n",
       "      <td>gas</td>\n",
       "      <td>74532.0</td>\n",
       "      <td>clean</td>\n",
       "      <td>automatic</td>\n",
       "      <td>JN8AF5MR9CT117690</td>\n",
       "      <td>fwd</td>\n",
       "      <td>compact</td>\n",
       "      <td>wagon</td>\n",
       "      <td>blue</td>\n",
       "      <td>va</td>\n",
       "    </tr>\n",
       "    <tr>\n",
       "      <th>70735</th>\n",
       "      <td>7312592013</td>\n",
       "      <td>yuba-sutter</td>\n",
       "      <td>10588</td>\n",
       "      <td>2012.0</td>\n",
       "      <td>volkswagen</td>\n",
       "      <td>tiguan</td>\n",
       "      <td>excellent</td>\n",
       "      <td>NaN</td>\n",
       "      <td>gas</td>\n",
       "      <td>78813.0</td>\n",
       "      <td>clean</td>\n",
       "      <td>automatic</td>\n",
       "      <td>NaN</td>\n",
       "      <td>fwd</td>\n",
       "      <td>NaN</td>\n",
       "      <td>SUV</td>\n",
       "      <td>black</td>\n",
       "      <td>ca</td>\n",
       "    </tr>\n",
       "    <tr>\n",
       "      <th>377664</th>\n",
       "      <td>7310362958</td>\n",
       "      <td>laredo</td>\n",
       "      <td>23995</td>\n",
       "      <td>2020.0</td>\n",
       "      <td>toyota</td>\n",
       "      <td>corolla</td>\n",
       "      <td>NaN</td>\n",
       "      <td>NaN</td>\n",
       "      <td>gas</td>\n",
       "      <td>21652.0</td>\n",
       "      <td>clean</td>\n",
       "      <td>automatic</td>\n",
       "      <td>JTDFPRAE5LJ024555</td>\n",
       "      <td>fwd</td>\n",
       "      <td>NaN</td>\n",
       "      <td>sedan</td>\n",
       "      <td>blue</td>\n",
       "      <td>tx</td>\n",
       "    </tr>\n",
       "    <tr>\n",
       "      <th>34728</th>\n",
       "      <td>7315962522</td>\n",
       "      <td>los angeles</td>\n",
       "      <td>3000</td>\n",
       "      <td>2002.0</td>\n",
       "      <td>volkswagen</td>\n",
       "      <td>golf</td>\n",
       "      <td>fair</td>\n",
       "      <td>4 cylinders</td>\n",
       "      <td>gas</td>\n",
       "      <td>209554.0</td>\n",
       "      <td>clean</td>\n",
       "      <td>automatic</td>\n",
       "      <td>NaN</td>\n",
       "      <td>NaN</td>\n",
       "      <td>compact</td>\n",
       "      <td>hatchback</td>\n",
       "      <td>blue</td>\n",
       "      <td>ca</td>\n",
       "    </tr>\n",
       "    <tr>\n",
       "      <th>47623</th>\n",
       "      <td>7306571957</td>\n",
       "      <td>redding</td>\n",
       "      <td>23590</td>\n",
       "      <td>2016.0</td>\n",
       "      <td>volvo</td>\n",
       "      <td>xc70 t5 classic platinum</td>\n",
       "      <td>good</td>\n",
       "      <td>NaN</td>\n",
       "      <td>gas</td>\n",
       "      <td>70223.0</td>\n",
       "      <td>clean</td>\n",
       "      <td>automatic</td>\n",
       "      <td>YV440MBY3G1261877</td>\n",
       "      <td>fwd</td>\n",
       "      <td>NaN</td>\n",
       "      <td>wagon</td>\n",
       "      <td>brown</td>\n",
       "      <td>ca</td>\n",
       "    </tr>\n",
       "    <tr>\n",
       "      <th>114327</th>\n",
       "      <td>7313354045</td>\n",
       "      <td>space coast</td>\n",
       "      <td>5300</td>\n",
       "      <td>2007.0</td>\n",
       "      <td>toyota</td>\n",
       "      <td>sienna</td>\n",
       "      <td>excellent</td>\n",
       "      <td>6 cylinders</td>\n",
       "      <td>gas</td>\n",
       "      <td>144000.0</td>\n",
       "      <td>clean</td>\n",
       "      <td>automatic</td>\n",
       "      <td>NaN</td>\n",
       "      <td>NaN</td>\n",
       "      <td>NaN</td>\n",
       "      <td>van</td>\n",
       "      <td>NaN</td>\n",
       "      <td>fl</td>\n",
       "    </tr>\n",
       "    <tr>\n",
       "      <th>121012</th>\n",
       "      <td>7307501364</td>\n",
       "      <td>athens</td>\n",
       "      <td>6799</td>\n",
       "      <td>2006.0</td>\n",
       "      <td>honda</td>\n",
       "      <td>accord lx</td>\n",
       "      <td>NaN</td>\n",
       "      <td>NaN</td>\n",
       "      <td>gas</td>\n",
       "      <td>147285.0</td>\n",
       "      <td>clean</td>\n",
       "      <td>automatic</td>\n",
       "      <td>NaN</td>\n",
       "      <td>NaN</td>\n",
       "      <td>NaN</td>\n",
       "      <td>NaN</td>\n",
       "      <td>NaN</td>\n",
       "      <td>ga</td>\n",
       "    </tr>\n",
       "    <tr>\n",
       "      <th>311631</th>\n",
       "      <td>7314606409</td>\n",
       "      <td>bend</td>\n",
       "      <td>6000</td>\n",
       "      <td>2010.0</td>\n",
       "      <td>ford</td>\n",
       "      <td>escape</td>\n",
       "      <td>excellent</td>\n",
       "      <td>6 cylinders</td>\n",
       "      <td>gas</td>\n",
       "      <td>145700.0</td>\n",
       "      <td>clean</td>\n",
       "      <td>automatic</td>\n",
       "      <td>1FMCU0DGXAKD02177</td>\n",
       "      <td>fwd</td>\n",
       "      <td>NaN</td>\n",
       "      <td>SUV</td>\n",
       "      <td>NaN</td>\n",
       "      <td>or</td>\n",
       "    </tr>\n",
       "  </tbody>\n",
       "</table>\n",
       "</div>"
      ],
      "text/plain": [
       "                id            region  price    year manufacturer  \\\n",
       "139828  7306211750  champaign urbana  12990  2014.0         ford   \n",
       "201457  7311798987      grand rapids  17105  2020.0          kia   \n",
       "398697  7306856843           roanoke   7995  2012.0       nissan   \n",
       "70735   7312592013       yuba-sutter  10588  2012.0   volkswagen   \n",
       "377664  7310362958            laredo  23995  2020.0       toyota   \n",
       "34728   7315962522       los angeles   3000  2002.0   volkswagen   \n",
       "47623   7306571957           redding  23590  2016.0        volvo   \n",
       "114327  7313354045       space coast   5300  2007.0       toyota   \n",
       "121012  7307501364            athens   6799  2006.0        honda   \n",
       "311631  7314606409              bend   6000  2010.0         ford   \n",
       "\n",
       "                           model  condition    cylinders fuel  odometer  \\\n",
       "139828        e150 econoline van  excellent          NaN  gas  134800.0   \n",
       "201457  forte fe 4d sedan manual        NaN          NaN  gas    5175.0   \n",
       "398697                      juke        NaN          NaN  gas   74532.0   \n",
       "70735                     tiguan  excellent          NaN  gas   78813.0   \n",
       "377664                   corolla        NaN          NaN  gas   21652.0   \n",
       "34728                       golf       fair  4 cylinders  gas  209554.0   \n",
       "47623   xc70 t5 classic platinum       good          NaN  gas   70223.0   \n",
       "114327                    sienna  excellent  6 cylinders  gas  144000.0   \n",
       "121012                 accord lx        NaN          NaN  gas  147285.0   \n",
       "311631                    escape  excellent  6 cylinders  gas  145700.0   \n",
       "\n",
       "       title_status transmission                VIN drive       size  \\\n",
       "139828        clean    automatic                NaN   NaN  full-size   \n",
       "201457        clean       manual  3KPF24AD6LE229954   fwd        NaN   \n",
       "398697        clean    automatic  JN8AF5MR9CT117690   fwd    compact   \n",
       "70735         clean    automatic                NaN   fwd        NaN   \n",
       "377664        clean    automatic  JTDFPRAE5LJ024555   fwd        NaN   \n",
       "34728         clean    automatic                NaN   NaN    compact   \n",
       "47623         clean    automatic  YV440MBY3G1261877   fwd        NaN   \n",
       "114327        clean    automatic                NaN   NaN        NaN   \n",
       "121012        clean    automatic                NaN   NaN        NaN   \n",
       "311631        clean    automatic  1FMCU0DGXAKD02177   fwd        NaN   \n",
       "\n",
       "             type paint_color state  \n",
       "139828        van         NaN    il  \n",
       "201457      sedan        grey    mi  \n",
       "398697      wagon        blue    va  \n",
       "70735         SUV       black    ca  \n",
       "377664      sedan        blue    tx  \n",
       "34728   hatchback        blue    ca  \n",
       "47623       wagon       brown    ca  \n",
       "114327        van         NaN    fl  \n",
       "121012        NaN         NaN    ga  \n",
       "311631        SUV         NaN    or  "
      ]
     },
     "execution_count": 409,
     "metadata": {},
     "output_type": "execute_result"
    }
   ],
   "source": [
    "vehicles.sample(10)"
   ]
  },
  {
   "cell_type": "code",
   "execution_count": 410,
   "metadata": {},
   "outputs": [
    {
     "name": "stdout",
     "output_type": "stream",
     "text": [
      "\n",
      "% Missing values:\n",
      " id               0.000000\n",
      "region           0.000000\n",
      "price            0.000000\n",
      "year             0.282281\n",
      "manufacturer     4.133714\n",
      "model            1.236179\n",
      "condition       40.785232\n",
      "cylinders       41.622470\n",
      "fuel             0.705819\n",
      "odometer         1.030735\n",
      "title_status     1.930753\n",
      "transmission     0.598763\n",
      "VIN             37.725356\n",
      "drive           30.586347\n",
      "size            71.767476\n",
      "type            21.752717\n",
      "paint_color     30.501078\n",
      "state            0.000000\n",
      "dtype: float64\n"
     ]
    }
   ],
   "source": [
    "# Step-3: Data Quality Assessment \n",
    "# Determine percentage of missing data\n",
    "print(\"\\n% Missing values:\\n\", (vehicles.isnull().sum() / len(vehicles)) * 100)"
   ]
  },
  {
   "cell_type": "code",
   "execution_count": 411,
   "metadata": {},
   "outputs": [
    {
     "name": "stdout",
     "output_type": "stream",
     "text": [
      "Percentage of rows with any missing values: 91.83%\n"
     ]
    }
   ],
   "source": [
    "# Calculate the percentage of  rows with any missing values\n",
    "percentage_rows_missing_values = vehicles.isnull().any(axis=1).mean() * 100\n",
    "\n",
    "print(f\"Percentage of rows with any missing values: {percentage_rows_missing_values:.2f}%\")"
   ]
  },
  {
   "cell_type": "code",
   "execution_count": 412,
   "metadata": {},
   "outputs": [
    {
     "data": {
      "text/plain": [
       "Text(0.5, 0, 'Price Distribution')"
      ]
     },
     "execution_count": 412,
     "metadata": {},
     "output_type": "execute_result"
    },
    {
     "data": {
      "image/png": "[encoded data removed]",
      "text/plain": [
       "<Figure size 1000x600 with 1 Axes>"
      ]
     },
     "metadata": {},
     "output_type": "display_data"
    }
   ],
   "source": [
    "# Histogram of price\n",
    "plt.figure(figsize=(10, 6))\n",
    "plt.hist(vehicles['price'])\n",
    "plt.xlabel(\"Price Distribution\")"
   ]
  },
  {
   "cell_type": "code",
   "execution_count": 413,
   "metadata": {},
   "outputs": [
    {
     "data": {
      "text/plain": [
       "Text(0.5, 0, 'QQ Plot of Price')"
      ]
     },
     "execution_count": 413,
     "metadata": {},
     "output_type": "execute_result"
    },
    {
     "data": {
      "text/plain": [
       "<Figure size 1000x600 with 0 Axes>"
      ]
     },
     "metadata": {},
     "output_type": "display_data"
    },
    {
     "data": {
      "image/png": "[encoded data removed]",
      "text/plain": [
       "<Figure size 640x480 with 1 Axes>"
      ]
     },
     "metadata": {},
     "output_type": "display_data"
    }
   ],
   "source": [
    "# QQplot of price\n",
    "plt.figure(figsize=(10, 6))\n",
    "sm.qqplot(vehicles['price'], line ='s')\n",
    "plt.xlabel(\"QQ Plot of Price\")"
   ]
  },
  {
   "cell_type": "code",
   "execution_count": 414,
   "metadata": {},
   "outputs": [
    {
     "data": {
      "text/plain": [
       "Text(0.5, 1.0, 'Correlation Heatmap of Numeric Variables')"
      ]
     },
     "execution_count": 414,
     "metadata": {},
     "output_type": "execute_result"
    },
    {
     "data": {
      "image/png": "[encoded data removed]",
      "text/plain": [
       "<Figure size 1000x600 with 2 Axes>"
      ]
     },
     "metadata": {},
     "output_type": "display_data"
    }
   ],
   "source": [
    "# Correlation heatmap of numeric variables\n",
    "numeric_columns = vehicles.select_dtypes(include='number').columns\n",
    "vehicles_numeric = vehicles[numeric_columns]\n",
    "vehicles_numeric_clean = vehicles_numeric.drop('id', axis=1)\n",
    "plt.figure(figsize=(10, 6))\n",
    "sns.heatmap(vehicles_numeric_clean.corr(), fmt=\".3f\", annot=True, cmap='BrBG')\n",
    "plt.title('Correlation Heatmap of Numeric Variables')"
   ]
  },
  {
   "cell_type": "markdown",
   "metadata": {},
   "source": [
    "**Observations**\n",
    "\n",
    "* Vehicles data is a mix of numeric and categorical features with missing and duplicate values. The mixed features will require different preprocessing methods. \n",
    "* Data contains fields that aren't relevant to building and validating the model. Ex: id.\n",
    "* Data clean up will be required before building and validating a model to predict price of used cars."
   ]
  },
  {
   "cell_type": "markdown",
   "metadata": {},
   "source": [
    "### Data Preparation\n",
    "\n",
    "After our initial exploration and fine tuning of the business understanding, it is time to construct our final dataset prior to modeling.  Here, we want to make sure to handle any integrity issues and cleaning, the engineering of new features, any transformations that we believe should happen (scaling, logarithms, normalization, etc.), and general preparation for modeling with `sklearn`. "
   ]
  },
  {
   "cell_type": "markdown",
   "metadata": {},
   "source": [
    "#### Handling missing data"
   ]
  },
  {
   "cell_type": "code",
   "execution_count": 418,
   "metadata": {},
   "outputs": [],
   "source": [
    "# For categorical data, fill missing values with 'Unknown'\n",
    "categorical_columns = ['region', 'manufacturer', 'model', 'condition', 'cylinders', 'fuel', 'title_status', 'transmission', 'drive', 'size', 'type', 'paint_color', 'state']\n",
    "essential_columns = ['manufacturer', 'model', 'condition', 'odometer', 'title_status', 'transmission', 'type', 'paint_color']\n",
    "removable_columns = [column for column in categorical_columns if column not in essential_columns]\n",
    "\n",
    "# For values in categorical columns, add 'Unknown' in place of NaN/Null\n",
    "for column in categorical_columns:\n",
    "    vehicles[column].fillna('Unknown', inplace=True)\n",
    "\n",
    "# For 'year' and 'odometer', fill missing values with the median of their respective columns\n",
    "vehicles['year'].fillna(vehicles['year'].median(), inplace=True)\n",
    "vehicles['odometer'].fillna(vehicles['odometer'].median(), inplace=True)\n",
    "\n",
    "# Drop duplicates based on 'VIN' column and then drop the 'VIN' column itself\n",
    "# 'VIN' encodes the manufacturer, year, make and model, and the trim level including unique features and specifications\n",
    "# Dropping it for now as it is in the endoded form. Future improvements could include decoding it and adding/complementing features\n",
    "vehicles.drop_duplicates(subset=['VIN'], keep='first', inplace=True)\n",
    "vehicles.drop(columns=['VIN'], inplace=True)\n",
    "\n",
    "# Drop column 'id' as it doesn't seem particularly useful in predicting the price of a car\n",
    "vehicles.drop(columns=['id'], inplace=True)"
   ]
  },
  {
   "cell_type": "code",
   "execution_count": 419,
   "metadata": {},
   "outputs": [
    {
     "name": "stdout",
     "output_type": "stream",
     "text": [
      "<class 'pandas.core.frame.DataFrame'>\n",
      "Index: 118247 entries, 0 to 426833\n",
      "Data columns (total 16 columns):\n",
      " #   Column        Non-Null Count   Dtype  \n",
      "---  ------        --------------   -----  \n",
      " 0   region        118247 non-null  object \n",
      " 1   price         118247 non-null  int64  \n",
      " 2   year          118247 non-null  float64\n",
      " 3   manufacturer  118247 non-null  object \n",
      " 4   model         118247 non-null  object \n",
      " 5   condition     118247 non-null  object \n",
      " 6   cylinders     118247 non-null  object \n",
      " 7   fuel          118247 non-null  object \n",
      " 8   odometer      118247 non-null  float64\n",
      " 9   title_status  118247 non-null  object \n",
      " 10  transmission  118247 non-null  object \n",
      " 11  drive         118247 non-null  object \n",
      " 12  size          118247 non-null  object \n",
      " 13  type          118247 non-null  object \n",
      " 14  paint_color   118247 non-null  object \n",
      " 15  state         118247 non-null  object \n",
      "dtypes: float64(2), int64(1), object(13)\n",
      "memory usage: 15.3+ MB\n"
     ]
    }
   ],
   "source": [
    "vehicles.info()"
   ]
  },
  {
   "cell_type": "code",
   "execution_count": 420,
   "metadata": {},
   "outputs": [],
   "source": [
    "# Given how skewed the price distribution was, we want to filter the outliers using Z-score\n",
    "# While at it do this for other numeric features as well (year and odometer)\n",
    "\n",
    "def remove_outliers(df, column):\n",
    "    return df[(np.abs(stats.zscore(df[column])) < 3)]\n",
    "\n",
    "for column in vehicles.select_dtypes('number').columns:\n",
    "    vehicles = remove_outliers(vehicles, column)"
   ]
  },
  {
   "cell_type": "code",
   "execution_count": 421,
   "metadata": {},
   "outputs": [],
   "source": [
    "# Convert price, year and odometer from float to int\n",
    "vehicles = vehicles.astype({'price': 'int', 'year': 'int', 'odometer': 'int'})"
   ]
  },
  {
   "cell_type": "code",
   "execution_count": 422,
   "metadata": {},
   "outputs": [],
   "source": [
    "# Set min price to $500\n",
    "vehicles.loc[vehicles['price'] < 500, 'price'] = 500"
   ]
  },
  {
   "cell_type": "code",
   "execution_count": 423,
   "metadata": {},
   "outputs": [
    {
     "name": "stdout",
     "output_type": "stream",
     "text": [
      "(116386, 16)\n",
      "                price           year       odometer\n",
      "count   116386.000000  116386.000000  116386.000000\n",
      "mean     16756.996237    2013.162648   88298.495412\n",
      "std      15740.399762       5.049870   56472.688614\n",
      "min        500.000000    1993.000000       0.000000\n",
      "25%       6000.000000    2010.000000   40762.000000\n",
      "50%      13350.000000    2014.000000   85544.500000\n",
      "75%      23988.000000    2017.000000  125645.250000\n",
      "max    1000000.000000    2022.000000  299733.000000\n"
     ]
    }
   ],
   "source": [
    "# Check the shape of the DataFrame after removing outliers\n",
    "\n",
    "print(vehicles.shape)\n",
    "print(vehicles.describe())"
   ]
  },
  {
   "cell_type": "code",
   "execution_count": 424,
   "metadata": {},
   "outputs": [],
   "source": [
    "# Lastly drop all non-essential columns\n",
    "vehicles = vehicles.drop(removable_columns, axis=1)"
   ]
  },
  {
   "cell_type": "markdown",
   "metadata": {},
   "source": [
    "### Modeling\n",
    "\n",
    "With your (almost?) final dataset in hand, it is now time to build some models.  Here, you should build a number of different regression models with the price as the target.  In building your models, you should explore different parameters and be sure to cross-validate your findings."
   ]
  },
  {
   "cell_type": "code",
   "execution_count": 426,
   "metadata": {},
   "outputs": [],
   "source": [
    "# Split into training and test sets\n",
    "X_train, X_test, y_train, y_test = train_test_split(\n",
    "    vehicles.drop(columns=[\"price\"]), vehicles[\"price\"], test_size=0.3, random_state=42)"
   ]
  },
  {
   "cell_type": "code",
   "execution_count": 427,
   "metadata": {},
   "outputs": [],
   "source": [
    "# Mean encoding\n",
    "mean_enc = TargetEncoder(cols=None, min_samples_leaf=25, smoothing=1.0)\n",
    "X_train_enc = mean_enc.fit_transform(X_train, y_train)\n",
    "X_test_enc = mean_enc.transform(X_test)"
   ]
  },
  {
   "cell_type": "code",
   "execution_count": 428,
   "metadata": {},
   "outputs": [],
   "source": [
    "# Standardization\n",
    "scaler = StandardScaler()\n",
    "X_train_scaled = scaler.fit_transform(X_train_enc)\n",
    "X_test_scaled = scaler.transform(X_test_enc)"
   ]
  },
  {
   "cell_type": "code",
   "execution_count": 429,
   "metadata": {},
   "outputs": [],
   "source": [
    "# Define a function that takes model, training and test sets and name as input and print out the CV score\n",
    "def print_scores(model, X_train, y_train, X_test, y_test, name):\n",
    "    print(f\"{name}\")\n",
    "    print(f\"Training set score: {model.score(X_train, y_train):.2f}\")\n",
    "    print(f\"Test set score: {model.score(X_test, y_test):.2f}\")\n",
    "    scores = cross_val_score(model, X_test, y_test, cv=5)\n",
    "    print(f\"Cross-validation scores: {scores}\")\n",
    "    print(f\"Mean cross-validation score: {scores.mean():.2f}\\n\")"
   ]
  },
  {
   "cell_type": "code",
   "execution_count": 430,
   "metadata": {},
   "outputs": [
    {
     "name": "stdout",
     "output_type": "stream",
     "text": [
      "Linear Regression\n",
      "Training set score: 0.34\n",
      "Test set score: 0.32\n",
      "Cross-validation scores: [0.36972732 0.3488608  0.34303255 0.23057128 0.34386972]\n",
      "Mean cross-validation score: 0.33\n",
      "\n"
     ]
    }
   ],
   "source": [
    "# Linear Regression\n",
    "lr = LinearRegression().fit(X_train_scaled, y_train)\n",
    "print_scores(lr, X_train_scaled, y_train, X_test_scaled, y_test, \"Linear Regression\")"
   ]
  },
  {
   "cell_type": "code",
   "execution_count": 431,
   "metadata": {},
   "outputs": [
    {
     "name": "stdout",
     "output_type": "stream",
     "text": [
      "Ridge Regression\n",
      "Training set score: 0.34\n",
      "Test set score: 0.32\n",
      "Cross-validation scores: [0.36972747 0.34886159 0.34303196 0.2305714  0.34386947]\n",
      "Mean cross-validation score: 0.33\n",
      "\n"
     ]
    }
   ],
   "source": [
    "# Ridge Regression\n",
    "ridge = Ridge().fit(X_train_scaled, y_train)\n",
    "print_scores(ridge, X_train_scaled, y_train, X_test_scaled, y_test, \"Ridge Regression\")"
   ]
  },
  {
   "cell_type": "code",
   "execution_count": 432,
   "metadata": {},
   "outputs": [
    {
     "name": "stdout",
     "output_type": "stream",
     "text": [
      "Ridge Regression with Grid Search\n",
      "Training set score: 0.34\n",
      "Test set score: 0.32\n",
      "Cross-validation scores: [0.36974036 0.3489377  0.34297257 0.23058276 0.34384269]\n",
      "Mean cross-validation score: 0.33\n",
      "\n"
     ]
    }
   ],
   "source": [
    "# Ridge Regression with Grid Search\n",
    "ridge_grid = GridSearchCV(Ridge(), {'alpha': np.logspace(-6, 6, 13)}, cv=5).fit(X_train_scaled, y_train)\n",
    "print_scores(ridge_grid.best_estimator_, X_train_scaled, y_train, X_test_scaled, y_test, \"Ridge Regression with Grid Search\")"
   ]
  },
  {
   "cell_type": "code",
   "execution_count": 433,
   "metadata": {},
   "outputs": [
    {
     "name": "stdout",
     "output_type": "stream",
     "text": [
      "Ridge Regression with built-in cross-validation\n",
      "Training set score: 0.34\n",
      "Test set score: 0.32\n",
      "Cross-validation scores: [0.36974036 0.3489377  0.34297257 0.23058276 0.34384269]\n",
      "Mean cross-validation score: 0.33\n",
      "\n"
     ]
    }
   ],
   "source": [
    "# Ridge Regression with built-in cross-validation\n",
    "ridge_cv = RidgeCV(alphas=np.logspace(-6, 6, 13), cv=5).fit(X_train_scaled, y_train)\n",
    "print_scores(ridge_cv, X_train_scaled, y_train, X_test_scaled, y_test, \"Ridge Regression with built-in cross-validation\")"
   ]
  },
  {
   "cell_type": "code",
   "execution_count": 434,
   "metadata": {},
   "outputs": [
    {
     "name": "stdout",
     "output_type": "stream",
     "text": [
      "Lasso Regression\n",
      "Training set score: 0.34\n",
      "Test set score: 0.32\n",
      "Cross-validation scores: [0.36972867 0.34886673 0.34302422 0.23057512 0.34386672]\n",
      "Mean cross-validation score: 0.33\n",
      "\n"
     ]
    }
   ],
   "source": [
    "# Lasso Regression\n",
    "lasso = Lasso().fit(X_train_scaled, y_train)\n",
    "print_scores(lasso, X_train_scaled, y_train, X_test_scaled, y_test, \"Lasso Regression\")"
   ]
  },
  {
   "cell_type": "code",
   "execution_count": 435,
   "metadata": {},
   "outputs": [
    {
     "name": "stdout",
     "output_type": "stream",
     "text": [
      "Lasso Regression with Grid Search\n",
      "Training set score: 0.34\n",
      "Test set score: 0.32\n",
      "Cross-validation scores: [0.36972723 0.34886148 0.34303174 0.23057172 0.34386935]\n",
      "Mean cross-validation score: 0.33\n",
      "\n"
     ]
    }
   ],
   "source": [
    "# Lasso Regression with Grid Search\n",
    "lasso_grid = GridSearchCV(Lasso(), {'alpha': [0.1, 0.01, 0.001, 0.0001]}, cv=5).fit(X_train_scaled, y_train)\n",
    "print_scores(lasso_grid.best_estimator_, X_train_scaled, y_train, X_test_scaled, y_test, \"Lasso Regression with Grid Search\")"
   ]
  },
  {
   "cell_type": "markdown",
   "metadata": {},
   "source": [
    "### Evaluation\n",
    "\n",
    "With some modeling accomplished, we aim to reflect on what we identify as a high quality model and what we are able to learn from this.  We should review our business objective and explore how well we can provide meaningful insight on drivers of used car prices.  Your goal now is to distill your findings and determine whether the earlier phases need revisitation and adjustment or if you have information of value to bring back to your client."
   ]
  },
  {
   "cell_type": "markdown",
   "metadata": {},
   "source": [
    "**Observations**\n",
    "\n",
    "* We built six models in all:\n",
    "  * Linear Regression\n",
    "  * Ridge Regression\n",
    "  * Ridge Regression with Grid Search\n",
    "  * Ridge Regression with built-in cross-validation\n",
    "  * Lasso Regression\n",
    "  * Lasso Regression with Grid Search\n",
    "* All the models had the same training set score (0.34), test set score (0.34) and Mean CV score (0.33).\n",
    "* Regularization: Ridge and Lasso regularization didn't have a significant performance impact over Linear Regression. Indicating either the data is not suffering from overfitting, or the regularization params uised need tuning.\n",
    "\n"
   ]
  },
  {
   "cell_type": "markdown",
   "metadata": {},
   "source": [
    "**Conclusion**\n",
    "\n",
    "* Given the performance of all models has been similar, I recommend we continue to use Linear Regression model to not overfit."
   ]
  },
  {
   "cell_type": "code",
   "execution_count": 439,
   "metadata": {},
   "outputs": [
    {
     "data": {
      "image/png": "[encoded data removed]",
      "text/plain": [
       "<Figure size 1000x600 with 1 Axes>"
      ]
     },
     "metadata": {},
     "output_type": "display_data"
    }
   ],
   "source": [
    "# Feature Importance\n",
    "\n",
    "feature_names = X_train_enc.columns\n",
    "\n",
    "# Feature importances via coefficients for the linear model\n",
    "plt.figure(figsize=(10, 6))\n",
    "plt.barh(feature_names, lr.coef_)\n",
    "plt.xlabel(\"Coefficient\")\n",
    "plt.ylabel(\"Feature\")\n",
    "plt.title(\"Feature Importances via Coefficients for Linear Regression\")\n",
    "plt.show()"
   ]
  },
  {
   "cell_type": "markdown",
   "metadata": {},
   "source": [
    "**Observations**\n",
    "\n",
    "* Year (age), Odometer, Model, Type and Manufacturer are the most important features that impact the cost of the used car.\n",
    "* Year, Model, Type and Manufacturer have a postive correlation.\n",
    "  * Year: newer the car, higher the price.\n",
    "  * Certain types of Models, Types and Manufactures have a postitive impact on the price.\n",
    "  * Odometer: Negatively impacts the price. Higher the odometer rating lower the price.\n",
    "* Remaining 4 other features have a postive impact on the price of the car."
   ]
  },
  {
   "cell_type": "markdown",
   "metadata": {},
   "source": [
    "### Deployment\n",
    "\n",
    "Now that we've settled on our models and findings, it is time to deliver the information to the client.  You should organize your work as a basic report that details your primary findings.  Keep in mind that your audience is a group of used car dealers interested in fine tuning their inventory."
   ]
  },
  {
   "cell_type": "markdown",
   "metadata": {},
   "source": [
    "**Summary**\n",
    "\n",
    "The factors that most influence the price of a used car are: year (age), odometer (reading), manufacturer, model and type. Maintaining a good inventory of newer cars with low odometer reading with a special focus on certain make/model/type of the vehicle will provide a competitive edge. When adding a car to the fleet run it through the model to determine the price at which the car would sell to ensure profitability."
   ]
  }
 ],
 "metadata": {
  "kernelspec": {
   "display_name": "Python 3 (ipykernel)",
   "language": "python",
   "name": "python3"
  },
  "language_info": {
   "codemirror_mode": {
    "name": "ipython",
    "version": 3
   },
   "file_extension": ".py",
   "mimetype": "text/x-python",
   "name": "python",
   "nbconvert_exporter": "python",
   "pygments_lexer": "ipython3",
   "version": "3.11.5"
  },
  "widgets": {
   "application/vnd.jupyter.widget-state+json": {
    "state": {},
    "version_major": 2,
    "version_minor": 0
   }
  }
 },
 "nbformat": 4,
 "nbformat_minor": 4
}
